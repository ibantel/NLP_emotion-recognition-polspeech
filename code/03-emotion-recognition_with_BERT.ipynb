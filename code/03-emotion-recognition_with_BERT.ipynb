{
 "cells": [
  {
   "cell_type": "markdown",
   "id": "45b080d2",
   "metadata": {},
   "source": [
    "# Fine-tuning BERT for emotion detection\n",
    "\n",
    "The notebook describes the process for training a neural net for emotion recognition from text. I also contains problems we face and a description of the envisioned solution.\n",
    "\n",
    "\n",
    "------\n",
    "\n",
    "In short, we (want to) train a neural network based on pre-trained word embeddings overlaid with labelled data we provide (partly from the existing `ISEAR` data set, partly manually annotated sentences).\n",
    "\n",
    "The desired outcome is multi-class emotion detection: anger, disgust, fear, sadness, joy, and neutral (no emotion).\n",
    "\n",
    "------"
   ]
  },
  {
   "cell_type": "code",
   "execution_count": null,
   "id": "28a69ce4",
   "metadata": {},
   "outputs": [],
   "source": [
    "import os\n",
    "from pathlib import Path\n",
    "import pandas as pd"
   ]
  },
  {
   "cell_type": "code",
   "execution_count": null,
   "id": "e4d3303d",
   "metadata": {},
   "outputs": [],
   "source": [
    "#os.chdir(\"C://Users/bantel/switchdrive/WORK/\")\n",
    "# folder should contain # ./data/BERT-in/"
   ]
  },
  {
   "cell_type": "code",
   "execution_count": null,
   "id": "e43b9970",
   "metadata": {},
   "outputs": [],
   "source": [
    "# load isear data\n",
    "isear = pd.read_csv(\"data/BERT-in/isear_preprocessed.csv\")[[\"EMOTION\", \"SITUATION\"]].rename(columns = {\"EMOTION\": \"label\", \"SITUATION\": \"text\"})"
   ]
  },
  {
   "cell_type": "markdown",
   "id": "c204f06a",
   "metadata": {},
   "source": [
    "## Train Emotion Recognition Model\n",
    "\n",
    "This section trains a model to recognize emotions from labelled text data (using the ISEAR data set)."
   ]
  },
  {
   "cell_type": "markdown",
   "id": "16e688e8",
   "metadata": {},
   "source": [
    "**Tokenize**\n",
    "\n",
    "Transform the text corpus to a vector representation\n",
    "\n",
    "- **num_words**: Number of words to use"
   ]
  },
  {
   "cell_type": "code",
   "execution_count": null,
   "id": "d8343aec",
   "metadata": {},
   "outputs": [],
   "source": [
    "import pickle\n",
    "from tensorflow.keras.preprocessing.text import Tokenizer"
   ]
  },
  {
   "cell_type": "code",
   "execution_count": null,
   "id": "899b4711",
   "metadata": {},
   "outputs": [],
   "source": [
    "num_words = 10000\n",
    "\n",
    "tokenizer = Tokenizer(num_words=num_words, lower=True)\n",
    "tokenizer.fit_on_texts(isear.text)\n",
    "\n",
    "tokenizer_path = Path('./code').resolve()\n",
    "with tokenizer_path.open('wb') as file:\n",
    "    pickle.dump(tokenizer, file)"
   ]
  },
  {
   "cell_type": "markdown",
   "id": "e9f82aa4",
   "metadata": {},
   "source": [
    "**Split data** into training and validation data"
   ]
  },
  {
   "cell_type": "code",
   "execution_count": null,
   "id": "8a7dea48",
   "metadata": {},
   "outputs": [],
   "source": [
    "from sklearn.model_selection import train_test_split"
   ]
  },
  {
   "cell_type": "code",
   "execution_count": null,
   "id": "16ed5a3c",
   "metadata": {},
   "outputs": [],
   "source": [
    "data = isear.copy()\n",
    "\n",
    "train = pd.DataFrame(columns=['label', 'text'])\n",
    "validation = pd.DataFrame(columns=['label', 'text'])\n",
    "for label in data.label.unique():\n",
    "    label_data = data[data.label == label]\n",
    "    train_data, validation_data = train_test_split(label_data, test_size=0.3)\n",
    "    train = pd.concat([train, train_data])\n",
    "    validation = pd.concat([validation, validation_data])"
   ]
  },
  {
   "cell_type": "markdown",
   "id": "634ee6db",
   "metadata": {},
   "source": [
    "## 2) Build Model\n",
    "---\n",
    "The model has (will have) the structure as follows:\n",
    "- starting with a baseline of a pre-trained embedding space\n",
    "- overlaid with training data from the ISEAR data set (`isear`)\n",
    "- overlaid with manually labelled instances (`labelled_cases`)\n",
    "\n",
    "The output is one of the six cases: `anger`, `disgust`, `fear`, `sadness`, `joy`, and `neutral`."
   ]
  },
  {
   "cell_type": "markdown",
   "id": "ac0448ac",
   "metadata": {},
   "source": [
    "### 2.1 Define the **LSTM** + **CNN** model"
   ]
  },
  {
   "cell_type": "code",
   "execution_count": null,
   "id": "2220aa4f",
   "metadata": {},
   "outputs": [],
   "source": [
    "from tensorflow.keras.layers import Input, Embedding, SpatialDropout1D, LSTM\n",
    "from tensorflow.keras.layers import GlobalAveragePooling1D, GlobalMaxPooling1D\n",
    "from tensorflow.keras.layers import Bidirectional, Conv1D, Dense, concatenate\n",
    "from tensorflow.keras.models import Model"
   ]
  },
  {
   "cell_type": "code",
   "execution_count": null,
   "id": "620a7130",
   "metadata": {},
   "outputs": [],
   "source": [
    "input_dim = min(tokenizer.num_words, len(tokenizer.word_index) + 1)\n",
    "num_classes = len(data.label.unique())\n",
    "embedding_dim = 500\n",
    "input_length = 100\n",
    "lstm_units = 128\n",
    "lstm_dropout = 0.1\n",
    "recurrent_dropout = 0.1\n",
    "spatial_dropout=0.2\n",
    "filters=64\n",
    "kernel_size=3\n",
    "# consider using pretrained model (BERT or successors) as embedding model"
   ]
  },
  {
   "cell_type": "code",
   "execution_count": null,
   "id": "6b55c278",
   "metadata": {},
   "outputs": [],
   "source": [
    "input_layer = Input(shape=(input_length,))\n",
    "output_layer = Embedding(\n",
    "  input_dim=input_dim,\n",
    "  output_dim=embedding_dim,\n",
    "  input_shape=(input_length,)\n",
    ")(input_layer)\n",
    "\n",
    "output_layer = SpatialDropout1D(spatial_dropout)(output_layer)\n",
    "\n",
    "output_layer = Bidirectional(\n",
    "LSTM(lstm_units, return_sequences=True,\n",
    "     dropout=lstm_dropout, recurrent_dropout=recurrent_dropout)\n",
    ")(output_layer)\n",
    "output_layer = Conv1D(filters, kernel_size=kernel_size, padding='valid',\n",
    "                    kernel_initializer='glorot_uniform')(output_layer)\n",
    "\n",
    "avg_pool = GlobalAveragePooling1D()(output_layer)\n",
    "max_pool = GlobalMaxPooling1D()(output_layer)\n",
    "output_layer = concatenate([avg_pool, max_pool])\n",
    "\n",
    "output_layer = Dense(num_classes, activation='softmax')(output_layer)\n",
    "\n",
    "model = Model(input_layer, output_layer)"
   ]
  },
  {
   "cell_type": "code",
   "execution_count": 14,
   "id": "b48fac24",
   "metadata": {
    "collapsed": true
   },
   "outputs": [
    {
     "name": "stdout",
     "output_type": "stream",
     "text": [
      "Model: \"model\"\n",
      "__________________________________________________________________________________________________\n",
      "Layer (type)                    Output Shape         Param #     Connected to                     \n",
      "==================================================================================================\n",
      "input_1 (InputLayer)            [(None, 100)]        0                                            \n",
      "__________________________________________________________________________________________________\n",
      "embedding (Embedding)           (None, 100, 500)     4626000     input_1[0][0]                    \n",
      "__________________________________________________________________________________________________\n",
      "spatial_dropout1d (SpatialDropo (None, 100, 500)     0           embedding[0][0]                  \n",
      "__________________________________________________________________________________________________\n",
      "bidirectional (Bidirectional)   (None, 100, 256)     644096      spatial_dropout1d[0][0]          \n",
      "__________________________________________________________________________________________________\n",
      "conv1d (Conv1D)                 (None, 98, 64)       49216       bidirectional[0][0]              \n",
      "__________________________________________________________________________________________________\n",
      "global_average_pooling1d (Globa (None, 64)           0           conv1d[0][0]                     \n",
      "__________________________________________________________________________________________________\n",
      "global_max_pooling1d (GlobalMax (None, 64)           0           conv1d[0][0]                     \n",
      "__________________________________________________________________________________________________\n",
      "concatenate (Concatenate)       (None, 128)          0           global_average_pooling1d[0][0]   \n",
      "                                                                 global_max_pooling1d[0][0]       \n",
      "__________________________________________________________________________________________________\n",
      "dense (Dense)                   (None, 7)            903         concatenate[0][0]                \n",
      "==================================================================================================\n",
      "Total params: 5,320,215\n",
      "Trainable params: 5,320,215\n",
      "Non-trainable params: 0\n",
      "__________________________________________________________________________________________________\n"
     ]
    }
   ],
   "source": [
    "model.compile(loss='categorical_crossentropy', optimizer='adam', metrics=['accuracy'])\n",
    "model.summary()"
   ]
  },
  {
   "cell_type": "code",
   "execution_count": 5,
   "id": "9c00f4e0",
   "metadata": {},
   "outputs": [
    {
     "name": "stderr",
     "output_type": "stream",
     "text": [
      "Using TensorFlow backend.\n"
     ]
    }
   ],
   "source": [
    "#!pip install pydot\n",
    "from keras.utils.vis_utils import plot_model\n",
    "#plot_model(model, to_file='model_plot.png', show_shapes=True, show_layer_names=True)"
   ]
  },
  {
   "cell_type": "markdown",
   "id": "896f44df",
   "metadata": {},
   "source": [
    "### 2.2 Add pre-trained embedding space"
   ]
  },
  {
   "cell_type": "code",
   "execution_count": 19,
   "id": "13e7deb9",
   "metadata": {},
   "outputs": [],
   "source": [
    "# to complete"
   ]
  },
  {
   "cell_type": "markdown",
   "id": "3808bbfc",
   "metadata": {},
   "source": [
    "### 2.3 Add `isear` data"
   ]
  },
  {
   "cell_type": "markdown",
   "id": "048aa9e5",
   "metadata": {},
   "source": [
    "prepare `isear` data"
   ]
  },
  {
   "cell_type": "code",
   "execution_count": null,
   "id": "268e513f",
   "metadata": {},
   "outputs": [],
   "source": [
    "from tensorflow.keras.preprocessing.sequence import pad_sequences\n",
    "from sklearn.preprocessing import LabelBinarizer"
   ]
  },
  {
   "cell_type": "code",
   "execution_count": null,
   "id": "594e662c",
   "metadata": {},
   "outputs": [],
   "source": [
    "# split into training and testing data\n",
    "train_sequences = [text.split() for text in train.text]\n",
    "validation_sequences = [text.split() for text in validation.text]\n",
    "list_tokenized_train = tokenizer.texts_to_sequences(train_sequences)\n",
    "list_tokenized_validation = tokenizer.texts_to_sequences(validation_sequences)\n",
    "x_tr = pad_sequences(list_tokenized_train, maxlen=input_length)\n",
    "x_test = pad_sequences(list_tokenized_validation, maxlen=input_length)\n",
    "\n",
    "encoder = LabelBinarizer()\n",
    "encoder.fit(data.label.unique())\n",
    "\n",
    "encoder_path = Path('./code_files/ISEAR/emotion_recognition_encoder.pickle')\n",
    "with encoder_path.open('wb') as file:\n",
    "    pickle.dump(encoder, file)\n",
    "\n",
    "y_tr = encoder.transform(train.label)\n",
    "y_test = encoder.transform(validation.label)\n",
    "\n",
    "# from training data, reserve cases for validation [X_train, X_val, y_train, y_val = train_test_split(x_tr, y_tr, test_size=0.1, random_state=42)]"
   ]
  },
  {
   "cell_type": "markdown",
   "id": "77bc9900",
   "metadata": {},
   "source": [
    "### 2.4 Add `labelled_cases`"
   ]
  },
  {
   "cell_type": "code",
   "execution_count": null,
   "id": "e524fe16",
   "metadata": {},
   "outputs": [],
   "source": [
    "# load labelled_cases\n",
    "labelled_cases = pd.read_csv(\"./BERT-in/House_of_commons_2019ff_labelled_test.csv\", index_col=0)"
   ]
  },
  {
   "cell_type": "code",
   "execution_count": null,
   "id": "2c6ffd07",
   "metadata": {},
   "outputs": [],
   "source": [
    "# include in pipeline"
   ]
  },
  {
   "cell_type": "markdown",
   "id": "c3ee229f",
   "metadata": {},
   "source": [
    "## Train model\n",
    "\n",
    "Do the training process with the given data"
   ]
  },
  {
   "cell_type": "code",
   "execution_count": null,
   "id": "d255d7a6",
   "metadata": {},
   "outputs": [],
   "source": [
    "batch_size = 128\n",
    "epochs = 2 # 5 for overview"
   ]
  },
  {
   "cell_type": "code",
   "execution_count": 18,
   "id": "824b2103",
   "metadata": {},
   "outputs": [
    {
     "name": "stdout",
     "output_type": "stream",
     "text": [
      "Train on 5364 samples, validate on 2302 samples\n",
      "Epoch 1/2\n",
      "5364/5364 [==============================] - 133s 25ms/sample - loss: 1.9241 - acc: 0.1959 - val_loss: 1.8500 - val_acc: 0.2624\n",
      "Epoch 2/2\n",
      "5364/5364 [==============================] - 138s 26ms/sample - loss: 1.5400 - acc: 0.4277 - val_loss: 1.4066 - val_acc: 0.4913\n"
     ]
    }
   ],
   "source": [
    "fitted_model = model.fit(\n",
    "    x_tr,\n",
    "    y = y_tr,\n",
    "    batch_size = batch_size,\n",
    "    epochs = epochs,\n",
    "    validation_data = (x_test, y_test)\n",
    ")\n",
    "\n",
    "# fits the model (affecting object \"model\") and saves the \"history\" of the saving process in fitted_model"
   ]
  },
  {
   "cell_type": "markdown",
   "id": "91fc38cd",
   "metadata": {},
   "source": [
    "## 4) Save Model & Weights"
   ]
  },
  {
   "cell_type": "code",
   "execution_count": null,
   "id": "1271ccf5",
   "metadata": {},
   "outputs": [],
   "source": [
    "model_path = Path('./code_files/ISEAR/model').resolve() # creates model file\n",
    "#model.save(model_path)"
   ]
  },
  {
   "cell_type": "code",
   "execution_count": null,
   "id": "1d02b056",
   "metadata": {},
   "outputs": [],
   "source": [
    "model_weight_path = Path('./code_files/ISEAR/model_weights.h5').resolve()\n",
    "#model.save_weights(model_weight_path.as_posix())"
   ]
  },
  {
   "cell_type": "markdown",
   "id": "1e1815af",
   "metadata": {},
   "source": [
    "# 5) Evaluate Model\n",
    "\n",
    "Evaluate the model (accuracy)."
   ]
  },
  {
   "cell_type": "code",
   "execution_count": 19,
   "id": "bf4721b6",
   "metadata": {},
   "outputs": [
    {
     "name": "stdout",
     "output_type": "stream",
     "text": [
      "Test loss: 1.4065573001094325\n",
      "Test accuracy: 0.4913119\n"
     ]
    }
   ],
   "source": [
    "score = model.evaluate(x_test, y_test, verbose = 0)\n",
    "\n",
    "print(\"Test loss:\", score[0])\n",
    "print(\"Test accuracy:\", score[1])"
   ]
  },
  {
   "cell_type": "code",
   "execution_count": 21,
   "id": "ee7e9a9a",
   "metadata": {},
   "outputs": [
    {
     "data": {
      "text/plain": [
       "{'loss': [1.9240910213087852, 1.5399531470938106],\n",
       " 'acc': [0.19593588, 0.42766592],\n",
       " 'val_loss': [1.8500090580624564, 1.4065573019736959],\n",
       " 'val_acc': [0.26238054, 0.4913119]}"
      ]
     },
     "execution_count": 21,
     "metadata": {},
     "output_type": "execute_result"
    }
   ],
   "source": [
    "fitted_model.history"
   ]
  },
  {
   "cell_type": "markdown",
   "id": "7d84cb95",
   "metadata": {},
   "source": [
    "To increase accuracy, adjust the hyperparamets above (number of filters, kernel size, dropout rate, ...) or the number of layers."
   ]
  },
  {
   "cell_type": "code",
   "execution_count": 22,
   "id": "9b0f2e8c",
   "metadata": {},
   "outputs": [
    {
     "data": {
      "text/plain": [
       "[1.8500090580624564, 1.4065573019736959]"
      ]
     },
     "execution_count": 22,
     "metadata": {},
     "output_type": "execute_result"
    }
   ],
   "source": [
    "fitted_model.history['val_loss']"
   ]
  },
  {
   "cell_type": "code",
   "execution_count": 24,
   "id": "ec33781c",
   "metadata": {
    "collapsed": true
   },
   "outputs": [
    {
     "data": {
      "image/png": "[encoded data removed]",
      "text/plain": [
       "<Figure size 1152x720 with 1 Axes>"
      ]
     },
     "metadata": {
      "needs_background": "light"
     },
     "output_type": "display_data"
    }
   ],
   "source": [
    "import matplotlib.pyplot as plt\n",
    "plt.figure(figsize=(16,10))\n",
    "plt.plot(fitted_model.history['loss'], label='Train')\n",
    "plt.plot(fitted_model.history['val_loss'], label='Test')\n",
    "plt.title('Learning curve')\n",
    "plt.ylabel('MAE value')\n",
    "plt.xlabel('No. epoch')\n",
    "plt.legend(loc=\"right\")\n",
    "plt.show()"
   ]
  },
  {
   "cell_type": "code",
   "execution_count": null,
   "id": "12f7f5ab",
   "metadata": {},
   "outputs": [],
   "source": [
    "# => minimal MAE value -> 2 epochs? plot accuracy (maximize for test set acc.)\n",
    "# ==> overfitting!"
   ]
  },
  {
   "cell_type": "code",
   "execution_count": 23,
   "id": "b41b6879",
   "metadata": {
    "scrolled": true
   },
   "outputs": [
    {
     "name": "stdout",
     "output_type": "stream",
     "text": [
      "input_1\n",
      "embedding\n",
      "spatial_dropout1d\n",
      "bidirectional\n",
      "conv1d\n",
      "global_average_pooling1d\n",
      "global_max_pooling1d\n",
      "concatenate\n",
      "dense\n"
     ]
    }
   ],
   "source": [
    "# layer = model.layers[2]\n",
    "# w = layer.get_weights()\n",
    "# plt.imshow(w)\n",
    "\n",
    "for layer in model.layers:\n",
    "    print(layer.name)\n",
    "    if layer.name == \"conv2d_8\":\n",
    "        w = layer.get_weights()\n",
    "        print(layer.name, \" \", w[0].shape)\n",
    "        plt.figure()\n",
    "        plt.imshow(w[0].reshape(8,36))\n",
    "        plt.show()\n",
    "\n",
    "# plt.imshow(w[0][:,:,0,0], )"
   ]
  },
  {
   "cell_type": "code",
   "execution_count": 30,
   "id": "0fed8b3f",
   "metadata": {},
   "outputs": [],
   "source": [
    "# insert loop: predictions, retrieve to_predict, re-train, etc."
   ]
  },
  {
   "cell_type": "markdown",
   "id": "90c09844",
   "metadata": {},
   "source": [
    "---"
   ]
  },
  {
   "cell_type": "markdown",
   "id": "205a713e",
   "metadata": {},
   "source": [
    "# Predict emotions on unseen data\n",
    "\n",
    "This section applies the previously trained model to new data to predic emotions"
   ]
  },
  {
   "cell_type": "markdown",
   "id": "1cb5e513",
   "metadata": {},
   "source": [
    "## 1) Preparation"
   ]
  },
  {
   "cell_type": "markdown",
   "id": "fe30d83a",
   "metadata": {},
   "source": [
    "**Load tokenizer** from pickle file"
   ]
  },
  {
   "cell_type": "code",
   "execution_count": 29,
   "id": "25e5c7e7",
   "metadata": {},
   "outputs": [],
   "source": [
    "with tokenizer_path.open('rb') as file:\n",
    "    tokenizer = pickle.load(file)"
   ]
  },
  {
   "cell_type": "markdown",
   "id": "561d4e60",
   "metadata": {},
   "source": [
    "**Load model** for emotion recognition trained previously"
   ]
  },
  {
   "cell_type": "code",
   "execution_count": null,
   "id": "000d3253",
   "metadata": {},
   "outputs": [],
   "source": [
    "### <not run?> ###"
   ]
  },
  {
   "cell_type": "code",
   "execution_count": null,
   "id": "8c214c48",
   "metadata": {},
   "outputs": [],
   "source": [
    "input_dim = min(tokenizer.num_words, len(tokenizer.word_index) + 1)\n",
    "num_classes = 4\n",
    "embedding_dim = 500\n",
    "input_length = 100\n",
    "lstm_units = 128\n",
    "lstm_dropout = 0.1\n",
    "recurrent_dropout = 0.1\n",
    "spatial_dropout = 0.2\n",
    "filters = 64\n",
    "kernel_size = 3"
   ]
  },
  {
   "cell_type": "code",
   "execution_count": null,
   "id": "31b9e43e",
   "metadata": {},
   "outputs": [],
   "source": [
    "input_layer = Input(shape=(input_length,))\n",
    "output_layer = Embedding(\n",
    "  input_dim=input_dim,\n",
    "  output_dim=embedding_dim,\n",
    "  input_shape=(input_length,)\n",
    ")(input_layer)\n",
    "\n",
    "output_layer = SpatialDropout1D(spatial_dropout)(output_layer)\n",
    "\n",
    "output_layer = Bidirectional(\n",
    "LSTM(lstm_units, return_sequences=True,\n",
    "     dropout=lstm_dropout, recurrent_dropout=recurrent_dropout)\n",
    ")(output_layer)\n",
    "output_layer = Conv1D(filters, kernel_size=kernel_size, padding='valid',\n",
    "                    kernel_initializer='glorot_uniform')(output_layer)\n",
    "\n",
    "avg_pool = GlobalAveragePooling1D()(output_layer)\n",
    "max_pool = GlobalMaxPooling1D()(output_layer)\n",
    "output_layer = concatenate([avg_pool, max_pool])\n",
    "\n",
    "output_layer = Dense(num_classes, activation='softmax')(output_layer)\n",
    "\n",
    "model = Model(input_layer, output_layer)"
   ]
  },
  {
   "cell_type": "code",
   "execution_count": null,
   "id": "f8dbeb10",
   "metadata": {},
   "outputs": [],
   "source": [
    "### </not run?> ###"
   ]
  },
  {
   "cell_type": "code",
   "execution_count": 30,
   "id": "14784f08",
   "metadata": {},
   "outputs": [],
   "source": [
    "import tensorflow as tf\n",
    "model = tf.keras.models.load_model(model_path)\n",
    "model.load_weights(model_weight_path.as_posix())"
   ]
  },
  {
   "cell_type": "markdown",
   "id": "909992a0",
   "metadata": {},
   "source": [
    "**Load data**\n",
    "\n",
    "Load the data on which we want to perform predictions with the model (`data_path`: Path to the .csv file containing the texts to predict)."
   ]
  },
  {
   "cell_type": "code",
   "execution_count": 9,
   "id": "005f3a45",
   "metadata": {},
   "outputs": [],
   "source": [
    "data_path = Path(\"./BERT-in/House_of_commons_2019ff_to_predict.csv\").resolve()\n",
    "\n",
    "data = pd.read_csv(data_path)#, index_col=0).drop(columns = [\"text\"])\n",
    "#data.head()\n",
    "\n",
    "#\tid\t\t\t\t\t\tdate \t\t\t\t\tuser\t\t \ttext\n",
    "#0 \t1151893341782585349 \t2019-07-18 16:35:48 \tOzzzylot\t \t⚡️ Fans share what Kyoto Animation studio mean...\n",
    "#1 \t1151893322908102657 \t2019-07-18 16:35:43 \trosyutori \t\tDeep condolences to all who are passed away at...\n",
    "#2 \t1151893318101377024 \t2019-07-18 16:35:42 \tmet_bit \t\tStriking news... How on earth can someone be s...\n",
    "#3 \t1151893304117813248 \t2019-07-18 16:35:39 \tDestructo_Dan \tI don’t know if I had any favorite anime from ...\n",
    "#4 \t1151893302863650816 \t2019-07-18 16:35:39 \tKDiscavage \t\tThe news about Kyoto Animation Studios hit me ..."
   ]
  },
  {
   "cell_type": "markdown",
   "id": "89591f02",
   "metadata": {},
   "source": [
    "subset data for predictions: only predict on data with high subjectivity scores (TextBlob)"
   ]
  },
  {
   "cell_type": "code",
   "execution_count": 10,
   "id": "f3105802",
   "metadata": {},
   "outputs": [],
   "source": [
    "#data.loc[(data[\"flair\"] < -.5)|(data['flair'] > .5), :]\n",
    "data_pred = data.loc[(data[\"txtblob_subjectivity\"] > .3), :]\n",
    "#data['txtblob_subjectivity'].hist()"
   ]
  },
  {
   "cell_type": "code",
   "execution_count": 11,
   "id": "a4f8be8f",
   "metadata": {},
   "outputs": [
    {
     "name": "stdout",
     "output_type": "stream",
     "text": [
      "0.636 1000\n"
     ]
    }
   ],
   "source": [
    "print(data_pred.shape[0] / data.shape[0], data.shape[0])"
   ]
  },
  {
   "cell_type": "markdown",
   "id": "d7cd9bbc",
   "metadata": {},
   "source": [
    "**Load Encoder**\n",
    "\n",
    "Load .pickle file with the encoder"
   ]
  },
  {
   "cell_type": "code",
   "execution_count": null,
   "id": "883880da",
   "metadata": {},
   "outputs": [],
   "source": [
    "with encoder_path.open('rb') as file:\n",
    "    encoder = pickle.load(file)"
   ]
  },
  {
   "cell_type": "markdown",
   "id": "a8ff057b",
   "metadata": {},
   "source": [
    "**Preprocess data**\n",
    "\n",
    "Preprocess the data that will be used"
   ]
  },
  {
   "cell_type": "code",
   "execution_count": null,
   "id": "08b3e15f",
   "metadata": {},
   "outputs": [],
   "source": [
    "#from nlp import preprocess\n",
    "import nltk\n",
    "nltk.download('stopwords')"
   ]
  },
  {
   "cell_type": "code",
   "execution_count": null,
   "id": "87347b01",
   "metadata": {},
   "outputs": [],
   "source": [
    "#data_pred.reset_index().rename(columns={\"index\": \"id\"}).drop(columns = [\"agenda\"]).head()"
   ]
  },
  {
   "cell_type": "code",
   "execution_count": null,
   "id": "8a6c73b1",
   "metadata": {},
   "outputs": [],
   "source": [
    "data_pred['split'] = data_pred['sentences'].apply(lambda x: x.split()) # sequences\n",
    "data_pred['list_tokenized'] = tokenizer.texts_to_sequences(data_pred['split']) # list_tokenized\n",
    "\n",
    "x_data_pred = pd.DataFrame(data = pad_sequences(data_pred['list_tokenized'], maxlen=100), # x_data\n",
    "                           columns = [\"pad_seq_\" + str(i).zfill(2) for i in range(100)],\n",
    "                           index=data_pred.reset_index()[\"index\"])"
   ]
  },
  {
   "cell_type": "code",
   "execution_count": 74,
   "id": "f12c0543",
   "metadata": {
    "scrolled": true
   },
   "outputs": [
    {
     "data": {
      "text/html": [
       "<div>\n",
       "<style scoped>\n",
       "    .dataframe tbody tr th:only-of-type {\n",
       "        vertical-align: middle;\n",
       "    }\n",
       "\n",
       "    .dataframe tbody tr th {\n",
       "        vertical-align: top;\n",
       "    }\n",
       "\n",
       "    .dataframe thead th {\n",
       "        text-align: right;\n",
       "    }\n",
       "</style>\n",
       "<table border=\"1\" class=\"dataframe\">\n",
       "  <thead>\n",
       "    <tr style=\"text-align: right;\">\n",
       "      <th></th>\n",
       "      <th>date</th>\n",
       "      <th>agenda</th>\n",
       "      <th>speechnumber</th>\n",
       "      <th>speaker</th>\n",
       "      <th>party</th>\n",
       "      <th>party.facts.id</th>\n",
       "      <th>chair</th>\n",
       "      <th>terms</th>\n",
       "      <th>parliament</th>\n",
       "      <th>iso3country</th>\n",
       "      <th>...</th>\n",
       "      <th>PERSON</th>\n",
       "      <th>PM</th>\n",
       "      <th>BJ</th>\n",
       "      <th>TM</th>\n",
       "      <th>BJ_PM</th>\n",
       "      <th>TM_PM</th>\n",
       "      <th>month_year</th>\n",
       "      <th>TM_BJ_01</th>\n",
       "      <th>split</th>\n",
       "      <th>list_tokenized</th>\n",
       "    </tr>\n",
       "  </thead>\n",
       "  <tbody>\n",
       "    <tr>\n",
       "      <th>2</th>\n",
       "      <td>2018-09-04</td>\n",
       "      <td>Official Development Assistance: Endangered Sp...</td>\n",
       "      <td>3</td>\n",
       "      <td>Ranil Jayawardena</td>\n",
       "      <td>Con</td>\n",
       "      <td>1567</td>\n",
       "      <td>False</td>\n",
       "      <td>56</td>\n",
       "      <td>UK-HouseOfCommons</td>\n",
       "      <td>GBR</td>\n",
       "      <td>...</td>\n",
       "      <td>False</td>\n",
       "      <td>0</td>\n",
       "      <td>0</td>\n",
       "      <td>0</td>\n",
       "      <td>0</td>\n",
       "      <td>0</td>\n",
       "      <td>2018-09</td>\n",
       "      <td>NaN</td>\n",
       "      <td>[Welcome, back,, Mr, Speaker.]</td>\n",
       "      <td>[3993, 2279]</td>\n",
       "    </tr>\n",
       "    <tr>\n",
       "      <th>3</th>\n",
       "      <td>2018-09-04</td>\n",
       "      <td>Official Development Assistance: Endangered Sp...</td>\n",
       "      <td>3</td>\n",
       "      <td>Ranil Jayawardena</td>\n",
       "      <td>Con</td>\n",
       "      <td>1567</td>\n",
       "      <td>False</td>\n",
       "      <td>56</td>\n",
       "      <td>UK-HouseOfCommons</td>\n",
       "      <td>GBR</td>\n",
       "      <td>...</td>\n",
       "      <td>False</td>\n",
       "      <td>1</td>\n",
       "      <td>0</td>\n",
       "      <td>0</td>\n",
       "      <td>0</td>\n",
       "      <td>1</td>\n",
       "      <td>2018-09</td>\n",
       "      <td>May</td>\n",
       "      <td>[I, welcome, the, Prime, Minister's, announcem...</td>\n",
       "      <td>[1, 3993, 3, 7683, 4179, 143, 252, 13, 3283, 2...</td>\n",
       "    </tr>\n",
       "    <tr>\n",
       "      <th>4</th>\n",
       "      <td>2018-09-04</td>\n",
       "      <td>Official Development Assistance: Endangered Sp...</td>\n",
       "      <td>3</td>\n",
       "      <td>Ranil Jayawardena</td>\n",
       "      <td>Con</td>\n",
       "      <td>1567</td>\n",
       "      <td>False</td>\n",
       "      <td>56</td>\n",
       "      <td>UK-HouseOfCommons</td>\n",
       "      <td>GBR</td>\n",
       "      <td>...</td>\n",
       "      <td>False</td>\n",
       "      <td>0</td>\n",
       "      <td>0</td>\n",
       "      <td>0</td>\n",
       "      <td>0</td>\n",
       "      <td>0</td>\n",
       "      <td>2018-09</td>\n",
       "      <td>NaN</td>\n",
       "      <td>[Would, my, Friend, the, Minister, also, like,...</td>\n",
       "      <td>[54, 5, 22, 3, 7684, 201, 132, 4, 100, 186, 26...</td>\n",
       "    </tr>\n",
       "    <tr>\n",
       "      <th>7</th>\n",
       "      <td>2018-09-04</td>\n",
       "      <td>Official Development Assistance: Endangered Sp...</td>\n",
       "      <td>4</td>\n",
       "      <td>Harriett Baldwin</td>\n",
       "      <td>Con</td>\n",
       "      <td>1567</td>\n",
       "      <td>False</td>\n",
       "      <td>61</td>\n",
       "      <td>UK-HouseOfCommons</td>\n",
       "      <td>GBR</td>\n",
       "      <td>...</td>\n",
       "      <td>False</td>\n",
       "      <td>0</td>\n",
       "      <td>0</td>\n",
       "      <td>0</td>\n",
       "      <td>0</td>\n",
       "      <td>0</td>\n",
       "      <td>2018-09</td>\n",
       "      <td>NaN</td>\n",
       "      <td>[While, I, was, out, there, I, announced, a, p...</td>\n",
       "      <td>[95, 1, 7, 38, 63, 1, 1025, 2, 1188, 13, 6598,...</td>\n",
       "    </tr>\n",
       "    <tr>\n",
       "      <th>8</th>\n",
       "      <td>2018-09-04</td>\n",
       "      <td>Official Development Assistance: Endangered Sp...</td>\n",
       "      <td>6</td>\n",
       "      <td>Harriett Baldwin</td>\n",
       "      <td>Con</td>\n",
       "      <td>1567</td>\n",
       "      <td>False</td>\n",
       "      <td>89</td>\n",
       "      <td>UK-HouseOfCommons</td>\n",
       "      <td>GBR</td>\n",
       "      <td>...</td>\n",
       "      <td>False</td>\n",
       "      <td>0</td>\n",
       "      <td>0</td>\n",
       "      <td>0</td>\n",
       "      <td>0</td>\n",
       "      <td>0</td>\n",
       "      <td>2018-09</td>\n",
       "      <td>NaN</td>\n",
       "      <td>[I, did, see, reports, of, that, very, unfortu...</td>\n",
       "      <td>[1, 36, 100, 1964, 9, 13, 21]</td>\n",
       "    </tr>\n",
       "  </tbody>\n",
       "</table>\n",
       "<p>5 rows × 36 columns</p>\n",
       "</div>"
      ],
      "text/plain": [
       "         date                                             agenda  \\\n",
       "2  2018-09-04  Official Development Assistance: Endangered Sp...   \n",
       "3  2018-09-04  Official Development Assistance: Endangered Sp...   \n",
       "4  2018-09-04  Official Development Assistance: Endangered Sp...   \n",
       "7  2018-09-04  Official Development Assistance: Endangered Sp...   \n",
       "8  2018-09-04  Official Development Assistance: Endangered Sp...   \n",
       "\n",
       "   speechnumber            speaker party  party.facts.id  chair  terms  \\\n",
       "2             3  Ranil Jayawardena   Con            1567  False     56   \n",
       "3             3  Ranil Jayawardena   Con            1567  False     56   \n",
       "4             3  Ranil Jayawardena   Con            1567  False     56   \n",
       "7             4   Harriett Baldwin   Con            1567  False     61   \n",
       "8             6   Harriett Baldwin   Con            1567  False     89   \n",
       "\n",
       "          parliament iso3country  ...  PERSON  PM BJ  TM  BJ_PM  TM_PM  \\\n",
       "2  UK-HouseOfCommons         GBR  ...   False   0  0   0      0      0   \n",
       "3  UK-HouseOfCommons         GBR  ...   False   1  0   0      0      1   \n",
       "4  UK-HouseOfCommons         GBR  ...   False   0  0   0      0      0   \n",
       "7  UK-HouseOfCommons         GBR  ...   False   0  0   0      0      0   \n",
       "8  UK-HouseOfCommons         GBR  ...   False   0  0   0      0      0   \n",
       "\n",
       "   month_year  TM_BJ_01                                              split  \\\n",
       "2     2018-09       NaN                     [Welcome, back,, Mr, Speaker.]   \n",
       "3     2018-09       May  [I, welcome, the, Prime, Minister's, announcem...   \n",
       "4     2018-09       NaN  [Would, my, Friend, the, Minister, also, like,...   \n",
       "7     2018-09       NaN  [While, I, was, out, there, I, announced, a, p...   \n",
       "8     2018-09       NaN  [I, did, see, reports, of, that, very, unfortu...   \n",
       "\n",
       "                                      list_tokenized  \n",
       "2                                       [3993, 2279]  \n",
       "3  [1, 3993, 3, 7683, 4179, 143, 252, 13, 3283, 2...  \n",
       "4  [54, 5, 22, 3, 7684, 201, 132, 4, 100, 186, 26...  \n",
       "7  [95, 1, 7, 38, 63, 1, 1025, 2, 1188, 13, 6598,...  \n",
       "8                      [1, 36, 100, 1964, 9, 13, 21]  \n",
       "\n",
       "[5 rows x 36 columns]"
      ]
     },
     "execution_count": 74,
     "metadata": {},
     "output_type": "execute_result"
    }
   ],
   "source": [
    "data_pred.head()"
   ]
  },
  {
   "cell_type": "markdown",
   "id": "ad50991c",
   "metadata": {},
   "source": [
    "**Results**\n",
    "\n",
    "Predict the labels and generate a confusion matrix"
   ]
  },
  {
   "cell_type": "code",
   "execution_count": 75,
   "id": "96538f56",
   "metadata": {},
   "outputs": [],
   "source": [
    "import numpy as np"
   ]
  },
  {
   "cell_type": "code",
   "execution_count": 78,
   "id": "e582ab4c",
   "metadata": {},
   "outputs": [],
   "source": [
    "y_predictions_raw = model.predict(x_data_pred)"
   ]
  },
  {
   "cell_type": "code",
   "execution_count": 83,
   "id": "9e87648b",
   "metadata": {},
   "outputs": [],
   "source": [
    "predictions_df = pd.DataFrame(data = y_predictions_raw, columns=encoder.classes_, \n",
    "                              index=x_data_pred.reset_index()[\"index\"])"
   ]
  },
  {
   "cell_type": "code",
   "execution_count": 84,
   "id": "60230fd4",
   "metadata": {
    "scrolled": true
   },
   "outputs": [
    {
     "name": "stdout",
     "output_type": "stream",
     "text": [
      "Overview:\n",
      "   12.85% overall ANGER.\n",
      "   19.80% overall DISGUST.\n",
      "   16.12% overall FEAR.\n",
      "   8.40% overall GUILT.\n",
      "   9.68% overall JOY.\n",
      "   16.46% overall SADNESS.\n",
      "   16.68% overall SHAME.\n"
     ]
    }
   ],
   "source": [
    "print(\"Overview:\")\n",
    "for index, value in enumerate(np.sum(y_predictions_raw, axis=0) / len(y_predictions_raw)):\n",
    "    print(f\"   {100 * value:.2f}% overall {encoder.classes_[index]}.\")"
   ]
  },
  {
   "cell_type": "code",
   "execution_count": 91,
   "id": "d2badb6b",
   "metadata": {},
   "outputs": [],
   "source": [
    "data_predicted = pd.merge(data, predictions_df, how=\"outer\", left_index=True, right_index=True)"
   ]
  },
  {
   "cell_type": "code",
   "execution_count": null,
   "id": "740e5b7c",
   "metadata": {},
   "outputs": [],
   "source": [
    "#data_predicted = pd.merge(data, predictions_df, left_index=True, right_index=True)\n",
    "\n",
    "save_predictions_path = Path(\"./BERT-out/House_of_commons_predicted.csv\").resolve()\n",
    "\n",
    "data_predicted.to_csv(save_predictions_path)"
   ]
  },
  {
   "cell_type": "code",
   "execution_count": 63,
   "id": "f8c65b5b",
   "metadata": {},
   "outputs": [
    {
     "name": "stdout",
     "output_type": "stream",
     "text": [
      "ANGER: 0.1\n",
      "DISGUST: 0.3\n",
      "FEAR: 0.1\n",
      "GUILT: 0.1\n",
      "JOY: 0.1\n",
      "SADNESS: 0.3\n"
     ]
    }
   ],
   "source": [
    "y_pred_argmax = y_pred.argmax(axis=1)\n",
    "data_len = len(y_pred_argmax)\n",
    "for index, value in enumerate(np.unique(y_pred_argmax)):\n",
    "    print(encoder.classes_[index] + \": \" + str(len(y_pred_argmax[y_pred_argmax == value]) / data_len))\n",
    "\n",
    "#angry: 0.09889558232931726\n",
    "#fear: 0.4011044176706827\n",
    "#joy: 0.030622489959839357\n",
    "#sadness: 0.46937751004016065"
   ]
  },
  {
   "cell_type": "code",
   "execution_count": null,
   "id": "6708328a",
   "metadata": {},
   "outputs": [],
   "source": [
    "y_pred[5:10].argmax(axis=1)\n",
    "# array([3, 3, 3, 3, 3])"
   ]
  },
  {
   "cell_type": "code",
   "execution_count": null,
   "id": "156a67ce",
   "metadata": {},
   "outputs": [],
   "source": [
    "data[\"sentences\"].iloc[6]\n",
    "# 'My heart goes out to the people who died in the fire at Kyoto Animation Studio. \\n\\n#PrayForKyoani https://t.co/Jvg9R8f6Oc'"
   ]
  },
  {
   "cell_type": "markdown",
   "id": "917ed2a4",
   "metadata": {},
   "source": [
    "# Validate predictions"
   ]
  },
  {
   "cell_type": "code",
   "execution_count": null,
   "id": "17dfa9c9",
   "metadata": {},
   "outputs": [],
   "source": [
    "import matplotlib.pyplot as plt\n",
    "import seaborn as sns\n",
    "import pandas as pd\n",
    "\n",
    "save_predictions_path = Path(\"./BERT-out/House_of_commons_predicted.csv\").resolve()\n",
    "\n",
    "data_predicted = pd.read_csv(save_predictions_path, index_col = 0).drop(\n",
    "    columns = ['agenda', 'speechnumber', 'speech_id',\n",
    "       'sentence_nr', 'vader_neg', 'vader_neu', 'vader_pos', 'terms',\n",
    "       'vader_compound', 'txtblob_polarity', 'txtblob_subjectivity', 'flair', 'chair',\n",
    "       'speech_id.1', 'ners', 'entities', 'ORG', 'NORP', 'GPE', 'PERSON', 'PM', \"party.facts.id\",\n",
    "       'BJ', 'TM', 'BJ_PM', 'TM_PM', 'TM_BJ_01', 'parliament', 'iso3country', 'month_year'])"
   ]
  },
  {
   "cell_type": "code",
   "execution_count": null,
   "id": "8178f198",
   "metadata": {},
   "outputs": [],
   "source": [
    "prediction_rows = data_predicted.loc[data_predicted['JOY'].notna(), :]"
   ]
  },
  {
   "cell_type": "code",
   "execution_count": null,
   "id": "e009570a",
   "metadata": {},
   "outputs": [],
   "source": [
    "#prediction_rows.nlargest(10, columns=[\"JOY\"])[[\"date\", \"speaker\", \"party\", \"sentences\"]]"
   ]
  },
  {
   "cell_type": "code",
   "execution_count": null,
   "id": "17e80bb1",
   "metadata": {},
   "outputs": [],
   "source": [
    "top_dataframes = pd.DataFrame()\n",
    "\n",
    "\n",
    "for emotion in [\"ANGER\", \"DISGUST\", \"FEAR\", \"GUILT\", \"JOY\", \"SADNESS\", \"SHAME\"]:\n",
    "    top_n = prediction_rows.nlargest(10, columns=[emotion])[[\"date\", \"speaker\", \"party\", \"sentences\"]]\n",
    "    top_n[\"Emotion\"] = emotion\n",
    "    top_dataframes = pd.concat([top_dataframes, top_n])"
   ]
  },
  {
   "cell_type": "code",
   "execution_count": null,
   "id": "368e9347",
   "metadata": {},
   "outputs": [],
   "source": [
    "save_predictions_validation_path = Path(\"./BERT-out/House_of_commons_validation.csv\").resolve()\n",
    "\n",
    "top_dataframes[['sentences', 'Emotion']].to_csv(save_predictions_validation_path)"
   ]
  }
 ],
 "metadata": {
  "kernelspec": {
   "display_name": "Python 3",
   "language": "python",
   "name": "python3"
  },
  "language_info": {
   "codemirror_mode": {
    "name": "ipython",
    "version": 3
   },
   "file_extension": ".py",
   "mimetype": "text/x-python",
   "name": "python",
   "nbconvert_exporter": "python",
   "pygments_lexer": "ipython3",
   "version": "3.8.8"
  }
 },
 "nbformat": 4,
 "nbformat_minor": 5
}
